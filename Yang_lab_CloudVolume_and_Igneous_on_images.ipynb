{
  "nbformat": 4,
  "nbformat_minor": 0,
  "metadata": {
    "colab": {
      "provenance": [],
      "authorship_tag": "ABX9TyOlkPddihR8zCRww1nVBTE7",
      "include_colab_link": true
    },
    "kernelspec": {
      "name": "python3",
      "display_name": "Python 3"
    },
    "language_info": {
      "name": "python"
    }
  },
  "cells": [
    {
      "cell_type": "markdown",
      "metadata": {
        "id": "view-in-github",
        "colab_type": "text"
      },
      "source": [
        "<a href=\"https://colab.research.google.com/github/seitay/3d_pipeline/blob/main/Yang_lab_CloudVolume_and_Igneous_on_images.ipynb\" target=\"_parent\"><img src=\"https://colab.research.google.com/assets/colab-badge.svg\" alt=\"Open In Colab\"/></a>"
      ]
    },
    {
      "cell_type": "markdown",
      "source": [
        "## Yang Lab images\n",
        "\n",
        "### 1. CloudVolume (XY chunking)\n",
        "\n",
        "- 4x: /panfs/dong/U01_MORF/upload/TME30-1/4x\n",
        "- 15x: /panfs/dong/U01_MORF/upload/TME30-1/15x"
      ],
      "metadata": {
        "id": "V0pMrzRMsA2d"
      }
    },
    {
      "cell_type": "code",
      "source": [
        "# 4x\n",
        "python generate_cloudvolume_cli.py --json params_json_yang_lab.json --jsonkey TME30_1_4x --cores 36 --step 20\n",
        "\n",
        "# python write_precomputed_volume_large_file.py --json params_json_yang_lab.json --jsonkey TME30_1_4x --workers 36 --offset 0 --step 20;\n",
        "\n",
        "\n",
        "# 15x\n",
        "python generate_cloudvolume_cli.py --json params_json_yang_lab.json --jsonkey TME30_1_15x --cores 36 --step 4 --offset 540\n",
        "\n",
        "# python write_precomputed_volume_large_file.py --json params_json_yang_lab.json --jsonkey TME30_1_15x --workers 36 --offset 540 --step 4;"
      ],
      "metadata": {
        "id": "GfvXvl9oriP6"
      },
      "execution_count": null,
      "outputs": []
    },
    {
      "cell_type": "markdown",
      "source": [
        "### 2. Igneous (XYZ chunking, downsample)"
      ],
      "metadata": {
        "id": "k-j8XYb8tKRx"
      }
    },
    {
      "cell_type": "code",
      "source": [],
      "metadata": {
        "id": "tm4MsV82tQPg"
      },
      "execution_count": null,
      "outputs": []
    }
  ]
}